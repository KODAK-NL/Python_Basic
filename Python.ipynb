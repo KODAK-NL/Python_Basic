{
  "nbformat": 4,
  "nbformat_minor": 0,
  "metadata": {
    "colab": {
      "provenance": [],
      "toc_visible": true,
      "authorship_tag": "ABX9TyMvbGg1NcdB4sXVIsX4okRO",
      "include_colab_link": true
    },
    "kernelspec": {
      "name": "python3",
      "display_name": "Python 3"
    },
    "language_info": {
      "name": "python"
    }
  },
  "cells": [
    {
      "cell_type": "markdown",
      "metadata": {
        "id": "view-in-github",
        "colab_type": "text"
      },
      "source": [
        "<a href=\"https://colab.research.google.com/github/KODAK-NL/Python_Basic/blob/main/Python.ipynb\" target=\"_parent\"><img src=\"https://colab.research.google.com/assets/colab-badge.svg\" alt=\"Open In Colab\"/></a>"
      ]
    },
    {
      "cell_type": "code",
      "execution_count": null,
      "metadata": {
        "id": "bBU71Tnw2RGy",
        "outputId": "f38c8850-6486-4c05-c1cc-55aeefb2bc26",
        "colab": {
          "base_uri": "https://localhost:8080/"
        }
      },
      "outputs": [
        {
          "output_type": "stream",
          "name": "stdout",
          "text": [
            "Primeira competição de programação dá start\n"
          ]
        }
      ],
      "source": [
        "print(\"Primeira competição de programação dá start\")"
      ]
    },
    {
      "cell_type": "code",
      "source": [
        "ano = \"2\"\n",
        "print(ano, \"Competição de programação da estática\")"
      ],
      "metadata": {
        "id": "ewdCAD1OYkrm",
        "outputId": "e7a6d8e4-4093-4da0-c114-7e51a4e7a3e8",
        "colab": {
          "base_uri": "https://localhost:8080/"
        }
      },
      "execution_count": null,
      "outputs": [
        {
          "output_type": "stream",
          "name": "stdout",
          "text": [
            "2 Competição de programação da estática\n"
          ]
        }
      ]
    },
    {
      "cell_type": "code",
      "source": [
        "local='curitiba'\n",
        "ano='2026'"
      ],
      "metadata": {
        "id": "kcV9AGTXY2uo"
      },
      "execution_count": null,
      "outputs": []
    },
    {
      "cell_type": "code",
      "source": [
        "Uma escola está promovendo uma campanha de incentivo à leitura, em que cada estudante recebe pontos ao concluir livros. Esses pontos podem ser trocados por diferentes premios da escola. As categorias de livros têm valores de pontos diferentes:\n",
        "Livro de ficção: 10 pontos\n",
        "Livro de não-ficção: 8 pontos\n",
        "Livro infantil: 6 pontos\n",
        "Rodrigo leu um livro de cada categoria. Agora ele quer saber quantos pontos acumulou com sua leitura.\n",
        "Nosso objetivo é criar um programa em Python que:\n",
        "Armazene a pontuação de cada categoria de livro em uma variável.\n",
        "Calcule o total de pontos acumulados por Rodrigo.\n",
        "Mostre na tela o total de pontos acumulados por Rodrigo."
      ],
      "metadata": {
        "id": "e2IfGLM7c6mE",
        "outputId": "96a0c69d-569e-44b2-b36b-a760a4ef421e",
        "colab": {
          "base_uri": "https://localhost:8080/",
          "height": 124
        }
      },
      "execution_count": 1,
      "outputs": [
        {
          "output_type": "error",
          "ename": "SyntaxError",
          "evalue": "invalid syntax (ipython-input-1190529602.py, line 1)",
          "traceback": [
            "\u001b[0;36m  File \u001b[0;32m\"/tmp/ipython-input-1190529602.py\"\u001b[0;36m, line \u001b[0;32m1\u001b[0m\n\u001b[0;31m    Uma escola está promovendo uma campanha de incentivo à leitura, em que cada estudante recebe pontos ao concluir livros. Esses pontos podem ser trocados por diferentes premios da escola. As categorias de livros têm valores de pontos diferentes:\u001b[0m\n\u001b[0m        ^\u001b[0m\n\u001b[0;31mSyntaxError\u001b[0m\u001b[0;31m:\u001b[0m invalid syntax\n"
          ]
        }
      ]
    },
    {
      "cell_type": "code",
      "metadata": {
        "colab": {
          "base_uri": "https://localhost:8080/"
        },
        "id": "212da609",
        "outputId": "bd888924-cca9-4544-8219-3ed5a84985fc"
      },
      "source": [
        "# Armazene a pontuação de cada categoria de livro em uma variável.\n",
        "pontos_ficcao = 10\n",
        "pontos_nao_ficcao = 8\n",
        "pontos_infantil = 6\n",
        "\n",
        "# Calcule o total de pontos acumulados por Rodrigo.\n",
        "total_pontos = pontos_ficcao + pontos_nao_ficcao + pontos_infantil\n",
        "\n",
        "# Mostre na tela o total de pontos acumulados por Rodrigo.\n",
        "print(\"Total de pontos acumulados por Rodrigo:\", total_pontos)"
      ],
      "execution_count": 2,
      "outputs": [
        {
          "output_type": "stream",
          "name": "stdout",
          "text": [
            "Total de pontos acumulados por Rodrigo: 24\n"
          ]
        }
      ]
    }
  ]
}